{
  "nbformat": 4,
  "nbformat_minor": 0,
  "metadata": {
    "colab": {
      "provenance": []
    },
    "kernelspec": {
      "name": "python3",
      "display_name": "Python 3"
    },
    "language_info": {
      "name": "python"
    }
  },
  "cells": [
    {
      "cell_type": "markdown",
      "source": [
        "## ASSIGNMENT 5\n",
        "Tasya Salsabila - **130184106**\n",
        "\n",
        "St. Nur Hikma Damayanti - **1301184002**\n"
      ],
      "metadata": {
        "id": "F-bqpkYw_knL"
      }
    },
    {
      "cell_type": "markdown",
      "source": [
        "## IMPORT LIBRARY"
      ],
      "metadata": {
        "id": "B7VlKcqL_w1S"
      }
    },
    {
      "cell_type": "code",
      "source": [
        "import os\n",
        "import matplotlib.pyplot as plt\n",
        "import matplotlib.image as mpimg\n",
        "import matplotlib.pyplot as plt\n",
        "import matplotlib.image as mpimg\n",
        "from tensorflow.keras.preprocessing.image import ImageDataGenerator\n",
        "import tensorflow as tf "
      ],
      "metadata": {
        "id": "HZS03236_wIg"
      },
      "execution_count": 34,
      "outputs": []
    },
    {
      "cell_type": "code",
      "source": [
        "from google.colab import drive\n",
        "drive.mount('/content/drive')\n",
        "%cd /content/drive/My Drive/\n",
        "dirname='Chessman-image-dataset/Chess'\n",
        "batchSize=64\n",
        "shape=(150,150)"
      ],
      "metadata": {
        "colab": {
          "base_uri": "https://localhost:8080/"
        },
        "id": "d7BnT0b79y_L",
        "outputId": "d46e1c6f-e671-49a9-a405-5e66f2a474a5"
      },
      "execution_count": 35,
      "outputs": [
        {
          "output_type": "stream",
          "name": "stdout",
          "text": [
            "Drive already mounted at /content/drive; to attempt to forcibly remount, call drive.mount(\"/content/drive\", force_remount=True).\n",
            "/content/drive/My Drive\n"
          ]
        }
      ]
    },
    {
      "cell_type": "markdown",
      "source": [
        "## DATA PREP"
      ],
      "metadata": {
        "id": "DQJHgWPi_z7I"
      }
    },
    {
      "cell_type": "code",
      "source": [
        "def plot_imgs(item_dir, title=\" \", num_imgs=4, cmap='viridis'):\n",
        "    all_item_dirs = os.listdir(item_dir)\n",
        "    item_files = [os.path.join(item_dir, file) for file in all_item_dirs][:num_imgs]\n",
        "\n",
        "    plt.figure(figsize=(15, 15))\n",
        "    for idx, img_path in enumerate(item_files):\n",
        "        plt.subplot(8, 8, idx+1)\n",
        "        img = plt.imread(img_path, 0)\n",
        "        plt.title(title)\n",
        "        plt.imshow(img, cmap=cmap)\n",
        "\n",
        "    plt.tight_layout()"
      ],
      "metadata": {
        "id": "Vih9qSsO-aHa"
      },
      "execution_count": 36,
      "outputs": []
    },
    {
      "cell_type": "code",
      "source": [
        "print('total gambar pawn :', len(os.listdir('Chessman-image-dataset/Chess/Pawn')))\n",
        "print('total gambar king :', len(os.listdir('Chessman-image-dataset/Chess/King')))\n",
        "print('total gambar knights :', len(os.listdir('Chessman-image-dataset/Chess/Knight')))"
      ],
      "metadata": {
        "colab": {
          "base_uri": "https://localhost:8080/"
        },
        "id": "Uoa_aNFO_FgF",
        "outputId": "5efb5428-bc05-459b-b535-7191688a8435"
      },
      "execution_count": 37,
      "outputs": [
        {
          "output_type": "stream",
          "name": "stdout",
          "text": [
            "total gambar pawn : 107\n",
            "total gambar king : 76\n",
            "total gambar knights : 106\n"
          ]
        }
      ]
    },
    {
      "cell_type": "code",
      "source": [
        "dir_train = os.path.join('Chessman-image-dataset/Chess')\n",
        "train_datagen = ImageDataGenerator(rescale=1./255,\n",
        "    rotation_range=20,\n",
        "    zoom_range=0.2,\n",
        "    shear_range=0.2,\n",
        "    fill_mode = 'nearest',\n",
        "    validation_split=0.1) "
      ],
      "metadata": {
        "id": "v0J27Hk3_Hhd"
      },
      "execution_count": 38,
      "outputs": []
    },
    {
      "cell_type": "code",
      "source": [
        "train_generator = train_datagen.flow_from_directory(\n",
        "    dir_train,\n",
        "    target_size=(150, 150),\n",
        "    batch_size=8,\n",
        "    class_mode='categorical',\n",
        "    subset='training') \n",
        "validation_generator = train_datagen.flow_from_directory(\n",
        "    dir_train, \n",
        "    target_size=(150, 150),\n",
        "    batch_size=16,\n",
        "    class_mode='categorical',\n",
        "    subset='validation')"
      ],
      "metadata": {
        "colab": {
          "base_uri": "https://localhost:8080/"
        },
        "id": "GTyalWee_Osa",
        "outputId": "b4c53660-ef04-4633-892e-8cfbaa0f061a"
      },
      "execution_count": 39,
      "outputs": [
        {
          "output_type": "stream",
          "name": "stdout",
          "text": [
            "Found 499 images belonging to 6 classes.\n",
            "Found 52 images belonging to 6 classes.\n"
          ]
        }
      ]
    },
    {
      "cell_type": "markdown",
      "source": [
        "## MODEL"
      ],
      "metadata": {
        "id": "c4COlonrAI-l"
      }
    },
    {
      "cell_type": "code",
      "source": [
        "model = tf.keras.models.Sequential([\n",
        "    tf.keras.layers.Conv2D(64, (3,3), activation='relu', input_shape=(150, 150, 3)),\n",
        "    tf.keras.layers.MaxPooling2D(2,2),\n",
        "    tf.keras.layers.Conv2D(32, (3,3), activation='relu'),\n",
        "    tf.keras.layers.MaxPooling2D(2,2),\n",
        "    tf.keras.layers.Dropout(0.4),  \n",
        "    tf.keras.layers.Conv2D(64, (3,3), activation='relu'), \n",
        "    tf.keras.layers.MaxPooling2D(2,2),\n",
        "    tf.keras.layers.Dropout(0.4),  \n",
        "    tf.keras.layers.Flatten(), \n",
        "    tf.keras.layers.Dense(512, activation='relu'),\n",
        "    tf.keras.layers.Dense(256, activation='relu'),\n",
        "    tf.keras.layers.Dense(6, activation='softmax')])"
      ],
      "metadata": {
        "id": "Kbxksfm-_Wk4"
      },
      "execution_count": 40,
      "outputs": []
    },
    {
      "cell_type": "code",
      "source": [
        "model.compile(optimizer=tf.optimizers.Adam(),\n",
        "              loss='categorical_crossentropy',\n",
        "              metrics = ['accuracy'])\n",
        "model.summary()"
      ],
      "metadata": {
        "colab": {
          "base_uri": "https://localhost:8080/"
        },
        "id": "Pqn5Dgvh_blU",
        "outputId": "6f80c03c-fa7b-4ca4-8f6d-959ca8b7bfac"
      },
      "execution_count": 41,
      "outputs": [
        {
          "output_type": "stream",
          "name": "stdout",
          "text": [
            "Model: \"sequential_3\"\n",
            "_________________________________________________________________\n",
            " Layer (type)                Output Shape              Param #   \n",
            "=================================================================\n",
            " conv2d_8 (Conv2D)           (None, 148, 148, 64)      1792      \n",
            "                                                                 \n",
            " max_pooling2d_8 (MaxPooling  (None, 74, 74, 64)       0         \n",
            " 2D)                                                             \n",
            "                                                                 \n",
            " conv2d_9 (Conv2D)           (None, 72, 72, 32)        18464     \n",
            "                                                                 \n",
            " max_pooling2d_9 (MaxPooling  (None, 36, 36, 32)       0         \n",
            " 2D)                                                             \n",
            "                                                                 \n",
            " dropout_5 (Dropout)         (None, 36, 36, 32)        0         \n",
            "                                                                 \n",
            " conv2d_10 (Conv2D)          (None, 34, 34, 64)        18496     \n",
            "                                                                 \n",
            " max_pooling2d_10 (MaxPoolin  (None, 17, 17, 64)       0         \n",
            " g2D)                                                            \n",
            "                                                                 \n",
            " dropout_6 (Dropout)         (None, 17, 17, 64)        0         \n",
            "                                                                 \n",
            " flatten_3 (Flatten)         (None, 18496)             0         \n",
            "                                                                 \n",
            " dense_8 (Dense)             (None, 512)               9470464   \n",
            "                                                                 \n",
            " dense_9 (Dense)             (None, 256)               131328    \n",
            "                                                                 \n",
            " dense_10 (Dense)            (None, 6)                 1542      \n",
            "                                                                 \n",
            "=================================================================\n",
            "Total params: 9,642,086\n",
            "Trainable params: 9,642,086\n",
            "Non-trainable params: 0\n",
            "_________________________________________________________________\n"
          ]
        }
      ]
    },
    {
      "cell_type": "code",
      "source": [
        "history = model.fit(train_generator,\n",
        "                              validation_data=validation_generator,\n",
        "                              epochs=15,\n",
        "                              verbose=2)"
      ],
      "metadata": {
        "colab": {
          "base_uri": "https://localhost:8080/"
        },
        "id": "zQH2HKRW_dKr",
        "outputId": "16fe4bd3-04a9-468a-900a-615e8ec467d6"
      },
      "execution_count": 42,
      "outputs": [
        {
          "output_type": "stream",
          "name": "stdout",
          "text": [
            "Epoch 1/15\n",
            "63/63 - 35s - loss: 1.8909 - accuracy: 0.1884 - val_loss: 1.7887 - val_accuracy: 0.1923 - 35s/epoch - 563ms/step\n",
            "Epoch 2/15\n",
            "63/63 - 35s - loss: 1.7913 - accuracy: 0.2084 - val_loss: 1.7823 - val_accuracy: 0.2115 - 35s/epoch - 557ms/step\n",
            "Epoch 3/15\n",
            "63/63 - 36s - loss: 1.7916 - accuracy: 0.1603 - val_loss: 1.7837 - val_accuracy: 0.1923 - 36s/epoch - 564ms/step\n",
            "Epoch 4/15\n",
            "63/63 - 34s - loss: 1.7828 - accuracy: 0.1864 - val_loss: 1.7719 - val_accuracy: 0.2308 - 34s/epoch - 542ms/step\n",
            "Epoch 5/15\n",
            "63/63 - 34s - loss: 1.7699 - accuracy: 0.2605 - val_loss: 1.7741 - val_accuracy: 0.1923 - 34s/epoch - 542ms/step\n",
            "Epoch 6/15\n",
            "63/63 - 34s - loss: 1.7510 - accuracy: 0.2345 - val_loss: 1.7510 - val_accuracy: 0.2885 - 34s/epoch - 543ms/step\n",
            "Epoch 7/15\n",
            "63/63 - 34s - loss: 1.7130 - accuracy: 0.2525 - val_loss: 1.7073 - val_accuracy: 0.3077 - 34s/epoch - 541ms/step\n",
            "Epoch 8/15\n",
            "63/63 - 36s - loss: 1.6764 - accuracy: 0.2906 - val_loss: 1.6426 - val_accuracy: 0.3269 - 36s/epoch - 575ms/step\n",
            "Epoch 9/15\n",
            "63/63 - 34s - loss: 1.6410 - accuracy: 0.3126 - val_loss: 1.6603 - val_accuracy: 0.3077 - 34s/epoch - 544ms/step\n",
            "Epoch 10/15\n",
            "63/63 - 34s - loss: 1.6141 - accuracy: 0.3066 - val_loss: 1.6230 - val_accuracy: 0.4038 - 34s/epoch - 542ms/step\n",
            "Epoch 11/15\n",
            "63/63 - 34s - loss: 1.5796 - accuracy: 0.3607 - val_loss: 1.5961 - val_accuracy: 0.3462 - 34s/epoch - 541ms/step\n",
            "Epoch 12/15\n",
            "63/63 - 34s - loss: 1.5163 - accuracy: 0.3908 - val_loss: 1.5968 - val_accuracy: 0.3462 - 34s/epoch - 542ms/step\n",
            "Epoch 13/15\n",
            "63/63 - 34s - loss: 1.4893 - accuracy: 0.4028 - val_loss: 1.5739 - val_accuracy: 0.3269 - 34s/epoch - 540ms/step\n",
            "Epoch 14/15\n",
            "63/63 - 34s - loss: 1.4358 - accuracy: 0.4248 - val_loss: 1.5578 - val_accuracy: 0.3654 - 34s/epoch - 543ms/step\n",
            "Epoch 15/15\n",
            "63/63 - 34s - loss: 1.3664 - accuracy: 0.4589 - val_loss: 1.6543 - val_accuracy: 0.3077 - 34s/epoch - 542ms/step\n"
          ]
        }
      ]
    },
    {
      "cell_type": "code",
      "source": [
        "plt.plot(history.history['accuracy'])\n",
        "plt.plot(history.history['val_accuracy'])\n",
        "plt.title('Akurasi ')\n",
        "plt.ylabel('accuracy')\n",
        "plt.xlabel('epoch')\n",
        "plt.legend(['train', 'test'], loc='upper left')\n",
        "plt.show()"
      ],
      "metadata": {
        "colab": {
          "base_uri": "https://localhost:8080/",
          "height": 295
        },
        "id": "wKlY6jZR_e_n",
        "outputId": "243b4329-42a6-453f-abfb-cf6acb68d75a"
      },
      "execution_count": 43,
      "outputs": [
        {
          "output_type": "display_data",
          "data": {
            "text/plain": [
              "<Figure size 432x288 with 1 Axes>"
            ],
            "image/png": "[encoded data removed]"
          },
          "metadata": {
            "needs_background": "light"
          }
        }
      ]
    },
    {
      "cell_type": "code",
      "source": [
        "plt.plot(history.history['loss'])\n",
        "plt.plot(history.history['val_loss'])\n",
        "plt.title('Loss')\n",
        "plt.ylabel('loss')\n",
        "plt.xlabel('epoch')\n",
        "plt.legend(['train', 'test'], loc='upper left')\n",
        "plt.show()"
      ],
      "metadata": {
        "colab": {
          "base_uri": "https://localhost:8080/",
          "height": 295
        },
        "id": "u0JgnPEY_imu",
        "outputId": "bf233938-3555-4b9c-97d6-e659f1b8bbe3"
      },
      "execution_count": 44,
      "outputs": [
        {
          "output_type": "display_data",
          "data": {
            "text/plain": [
              "<Figure size 432x288 with 1 Axes>"
            ],
            "image/png": "[encoded data removed]"
          },
          "metadata": {
            "needs_background": "light"
          }
        }
      ]
    }
  ]
}