{
  "nbformat": 4,
  "nbformat_minor": 0,
  "metadata": {
    "colab": {
      "provenance": []
    },
    "kernelspec": {
      "name": "python3",
      "display_name": "Python 3"
    },
    "language_info": {
      "name": "python"
    }
  },
  "cells": [
    {
      "cell_type": "markdown",
      "source": [
        "## IMPORT LIBRARY"
      ],
      "metadata": {
        "id": "B7VlKcqL_w1S"
      }
    },
    {
      "cell_type": "code",
      "source": [
        "import re\n",
        "from multiprocessing import TimeoutError\n",
        "\n",
        "import numpy as np\n",
        "import pytest\n",
        "\n",
        "from gym.error import AlreadyPendingCallError, ClosedEnvironmentError, NoAsyncCallError\n",
        "from gym.spaces import Box, Discrete, MultiDiscrete, Tuple\n",
        "from gym.vector.async_vector_env import AsyncVectorEnv\n",
        "from tests.vector.utils import (\n",
        "    CustomSpace,\n",
        "    make_custom_space_env,\n",
        "    make_env,\n",
        "    make_slow_env,\n",
        ")"
      ],
      "metadata": {
        "id": "HZS03236_wIg"
      },
      "execution_count": null,
      "outputs": []
    },
    {
      "cell_type": "code",
      "source": [
        "import gym\n",
        "env = gym.make(\"CartPole-v1\")\n",
        "observation, info = env.reset(seed=42)\n",
        "\n",
        "for _ in range(1000):\n",
        "    action = env.action_space.sample()\n",
        "    observation, reward, terminated, truncated, info = env.step(action)\n",
        "\n",
        "    if terminated or truncated:\n",
        "        observation, info = env.reset()\n",
        "env.close()"
      ],
      "metadata": {
        "id": "49TcerGseOma"
      },
      "execution_count": null,
      "outputs": []
    },
    {
      "cell_type": "code",
      "source": [
        "from DNE4py import load_mpidata, get_best_phenotype, get_best_phenotype_generator"
      ],
      "metadata": {
        "id": "1xMMrdRnfKFv"
      },
      "execution_count": null,
      "outputs": []
    },
    {
      "cell_type": "code",
      "source": [
        "train_generator = train_datagen.flow_from_directory(\n",
        "    dir_train,\n",
        "    target_size=(150, 150),\n",
        "    batch_size=8,\n",
        "    class_mode='categorical',\n",
        "    subset='training') \n",
        "validation_generator = train_datagen.flow_from_directory(\n",
        "    dir_train, \n",
        "    target_size=(150, 150),\n",
        "    batch_size=16,\n",
        "    class_mode='categorical',\n",
        "    subset='validation')"
      ],
      "metadata": {
        "colab": {
          "base_uri": "https://localhost:8080/"
        },
        "id": "GTyalWee_Osa",
        "outputId": "b4c53660-ef04-4633-892e-8cfbaa0f061a"
      },
      "execution_count": null,
      "outputs": [
        {
          "output_type": "stream",
          "name": "stdout",
          "text": [
            "Found 499 images belonging to 6 classes.\n",
            "Found 52 images belonging to 6 classes.\n"
          ]
        }
      ]
    },
    {
      "cell_type": "code",
      "source": [
        "model =\n",
        "\n",
        "class UnittestSlowEnv(gym.Env):\n",
        "    def __init__(self, slow_reset=0.3):\n",
        "        super().__init__()\n",
        "        self.slow_reset = slow_reset\n",
        "        self.observation_space = Box(\n",
        "            low=0, high=255, shape=(HEIGHT, WIDTH, 3), dtype=np.uint8\n",
        "        )\n",
        "        self.action_space = Box(low=0.0, high=1.0, shape=(), dtype=np.float32)\n",
        "\n",
        "    def reset(self, *, seed: Optional[int] = None, options: Optional[dict] = None):\n",
        "        super().reset(seed=seed)\n",
        "        if self.slow_reset > 0:\n",
        "            time.sleep(self.slow_reset)\n",
        "        return self.observation_space.sample(), {}\n",
        "\n",
        "    def step(self, action):\n",
        "        time.sleep(action)\n",
        "        observation = self.observation_space.sample()\n",
        "        reward, terminated, truncated = 0.0, False, False\n",
        "        return observation, reward, terminated, truncated, {}\n"
      ],
      "metadata": {
        "id": "Kbxksfm-_Wk4"
      },
      "execution_count": null,
      "outputs": []
    },
    {
      "cell_type": "code",
      "source": [
        "def test_reset_async_vector_env(shared_memory):\n",
        "    env_fns = [make_env(\"CartPole-v1\", i) for i in range(8)]\n",
        "\n",
        "    env = AsyncVectorEnv(env_fns, shared_memory=shared_memory)\n",
        "    observations, infos = env.reset()\n",
        "\n",
        "    env.close()\n",
        "\n",
        "    assert isinstance(env.observation_space, Box)\n",
        "    assert isinstance(observations, np.ndarray)\n",
        "    assert observations.dtype == env.observation_space.dtype\n",
        "    assert observations.shape == (8,) + env.single_observation_space.shape\n",
        "    assert observations.shape == env.observation_space.shape\n",
        "\n",
        "    try:\n",
        "        env = AsyncVectorEnv(env_fns, shared_memory=shared_memory)\n",
        "        observations, infos = env.reset()\n",
        "    finally:\n",
        "        env.close()\n",
        "\n",
        "    assert isinstance(env.observation_space, Box)\n",
        "    assert isinstance(observations, np.ndarray)\n",
        "    assert observations.dtype == env.observation_space.dtype\n",
        "    assert observations.shape == (8,) + env.single_observation_space.shape\n",
        "    assert observations.shape == env.observation_space.shape\n",
        "    assert isinstance(infos, dict)\n",
        "    assert all([isinstance(info, dict) for info in infos])"
      ],
      "metadata": {
        "id": "xJTMY5QBf_29"
      },
      "execution_count": null,
      "outputs": []
    },
    {
      "cell_type": "code",
      "source": [
        "def objective(x):\n",
        "    result = np.sum(x**2)\n",
        "    return result\n",
        "\n",
        "initial_guess = [1.0, 1.0]\n",
        "\n",
        "optimizer = TruncatedRealMutatorGA(objective=objective,\n",
        "                                   initial_guess=initial_guess,\n",
        "                                   workers_per_rank=10,\n",
        "                                   num_elite=1,\n",
        "                                   num_parents=3,\n",
        "                                   sigma=0.01,\n",
        "                                   seed=100,\n",
        "                                   save=1,\n",
        "                                   verbose=1,\n",
        "                                   output_folder='results/experiment')\n",
        "\n",
        "optimizer(100)"
      ],
      "metadata": {
        "id": "zxXivoF8fAgf"
      },
      "execution_count": null,
      "outputs": []
    }
  ]
}